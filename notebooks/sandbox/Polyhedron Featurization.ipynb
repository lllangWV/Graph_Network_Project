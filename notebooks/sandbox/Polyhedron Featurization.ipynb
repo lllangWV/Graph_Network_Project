{
 "cells": [
  {
   "attachments": {},
   "cell_type": "markdown",
   "metadata": {},
   "source": [
    "## Importing package and adding path to library"
   ]
  },
  {
   "cell_type": "code",
   "execution_count": 2,
   "metadata": {},
   "outputs": [],
   "source": [
    "# Importing package and adding path to library\n",
    "import os\n",
    "import sys\n",
    "\n",
    "PROJECT_DIR = os.path.abspath('../..')\n",
    "SRC_DIR = os.path.join(PROJECT_DIR,'src')\n",
    "\n",
    "sys.path.append(SRC_DIR)\n"
   ]
  },
  {
   "attachments": {},
   "cell_type": "markdown",
   "metadata": {},
   "source": [
    "## import interal polyhedra"
   ]
  },
  {
   "cell_type": "code",
   "execution_count": 3,
   "metadata": {},
   "outputs": [],
   "source": [
    "from poly_graphs_lib.utils import shapes"
   ]
  },
  {
   "cell_type": "code",
   "execution_count": 5,
   "metadata": {},
   "outputs": [
    {
     "data": {
      "text/plain": [
       "['tetra',\n",
       " 'cube',\n",
       " 'oct',\n",
       " 'dod',\n",
       " 'rotated_tetra',\n",
       " 'scaled_tetra',\n",
       " 'dod-like',\n",
       " 'cube-like_1',\n",
       " 'tetra-like',\n",
       " 'cube-like_2',\n",
       " 'oct-like']"
      ]
     },
     "execution_count": 5,
     "metadata": {},
     "output_type": "execute_result"
    }
   ],
   "source": [
    "test_polys = shapes.test_polys\n",
    "test_names = shapes.test_names\n",
    "test_names"
   ]
  },
  {
   "cell_type": "code",
   "execution_count": null,
   "metadata": {},
   "outputs": [],
   "source": []
  }
 ],
 "metadata": {
  "kernelspec": {
   "display_name": "voronoi",
   "language": "python",
   "name": "python3"
  },
  "language_info": {
   "codemirror_mode": {
    "name": "ipython",
    "version": 3
   },
   "file_extension": ".py",
   "mimetype": "text/x-python",
   "name": "python",
   "nbconvert_exporter": "python",
   "pygments_lexer": "ipython3",
   "version": "3.8.0"
  },
  "orig_nbformat": 4
 },
 "nbformat": 4,
 "nbformat_minor": 2
}
