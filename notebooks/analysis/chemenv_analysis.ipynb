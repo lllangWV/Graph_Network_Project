{
 "cells": [
  {
   "cell_type": "code",
   "execution_count": 2,
   "metadata": {},
   "outputs": [],
   "source": [
    "from poly_graphs_lib.utils import PROJECT_DIR\n",
    "import os\n",
    "import json\n",
    "from glob import glob \n",
    "\n",
    "import pymatgen.core as pmat\n",
    "from pymatgen.analysis.chemenv.coordination_environments.chemenv_strategies import SimplestChemenvStrategy, MultiWeightsChemenvStrategy\n",
    "\n",
    "\n",
    "from pymatgen.analysis.chemenv.coordination_environments.coordination_geometry_finder import LocalGeometryFinder\n",
    "from pymatgen.analysis.chemenv.coordination_environments.structure_environments import LightStructureEnvironments\n",
    "from pymatgen.analysis.chemenv.coordination_environments.coordination_geometries import AllCoordinationGeometries"
   ]
  },
  {
   "cell_type": "code",
   "execution_count": 3,
   "metadata": {},
   "outputs": [
    {
     "name": "stderr",
     "output_type": "stream",
     "text": [
      "z:\\Research Projects\\crystal_generation_project\\Graph_Network_Project\\venv\\lib\\site-packages\\pymatgen\\analysis\\chemenv\\coordination_environments\\chemenv_strategies.py:2603: RuntimeWarning: invalid value encountered in scalar divide\n",
      "  nb_sets_fractions = {cn_map: w_nb_set / w_nb_sets_total for cn_map, w_nb_set in w_nb_sets.items()}\n"
     ]
    },
    {
     "name": "stdout",
     "output_type": "stream",
     "text": [
      "[]\n",
      "[]\n",
      "[{'ce_symbol': 'I:12', 'ce_fraction': 0.7626461191301739, 'csm': 2.7759744519167193, 'permutation': [10, 3, 6, 9, 4, 7, 2, 1, 11, 5, 8, 0]}, {'ce_symbol': 'MI:10', 'ce_fraction': 0.21077132332304535, 'csm': 1.0871471115843363, 'permutation': [0, 5, 9, 7, 3, 8, 1, 6, 4, 2]}, {'ce_symbol': 'C:12', 'ce_fraction': 0.0203943466801369, 'csm': 6.117426457599153, 'permutation': [4, 10, 9, 1, 5, 6, 3, 8, 11, 2, 7, 0]}, {'ce_symbol': 'AC:12', 'ce_fraction': 0.0035033394583127695, 'csm': 7.095049480165246, 'permutation': [7, 10, 3, 2, 9, 6, 4, 11, 5, 8, 1, 0]}, {'ce_symbol': 'PBP:12', 'ce_fraction': 0.002684871408331029, 'csm': 7.196457578091733, 'permutation': [2, 9, 0, 8, 3, 11, 5, 6, 7, 10, 1, 4]}]\n",
      "[{'ce_symbol': 'I:12', 'ce_fraction': 0.7626461913784666, 'csm': 2.7759744493197034, 'permutation': [2, 5, 9, 11, 1, 10, 3, 7, 0, 4, 8, 6]}, {'ce_symbol': 'MI:10', 'ce_fraction': 0.2107712486605576, 'csm': 1.0871472895340921, 'permutation': [1, 3, 6, 0, 7, 5, 2, 8, 9, 4]}, {'ce_symbol': 'C:12', 'ce_fraction': 0.02039434805645317, 'csm': 6.117426475149726, 'permutation': [0, 11, 2, 6, 1, 5, 9, 7, 4, 10, 3, 8]}, {'ce_symbol': 'AC:12', 'ce_fraction': 0.003503339612124165, 'csm': 7.095049499412867, 'permutation': [9, 6, 8, 5, 0, 4, 10, 2, 1, 11, 7, 3]}, {'ce_symbol': 'PBP:12', 'ce_fraction': 0.002684872292398603, 'csm': 7.196457492288272, 'permutation': [7, 11, 9, 10, 8, 5, 3, 4, 1, 2, 6, 0]}]\n",
      "[{'ce_symbol': 'I:12', 'ce_fraction': 0.9999736455562301, 'csm': 0.04585911739049156, 'permutation': [2, 8, 0, 10, 1, 5, 6, 7, 11, 9, 3, 4]}, {'ce_symbol': 'C:12', 'ce_fraction': 2.311681743970926e-05, 'csm': 4.362181336705865, 'permutation': [8, 11, 4, 0, 3, 7, 1, 9, 2, 5, 6, 10]}, {'ce_symbol': 'AC:12', 'ce_fraction': 3.2376263302102706e-06, 'csm': 6.0971199581987205, 'permutation': [11, 9, 10, 4, 3, 2, 1, 0, 5, 6, 7, 8]}]\n",
      "[{'ce_symbol': 'I:12', 'ce_fraction': 0.9999736455562301, 'csm': 0.04585911739049151, 'permutation': [0, 9, 1, 5, 3, 2, 7, 10, 8, 6, 11, 4]}, {'ce_symbol': 'C:12', 'ce_fraction': 2.3116817439709208e-05, 'csm': 4.362181336705865, 'permutation': [5, 8, 4, 0, 10, 1, 9, 3, 7, 11, 6, 2]}, {'ce_symbol': 'AC:12', 'ce_fraction': 3.237626330210271e-06, 'csm': 6.097119958198719, 'permutation': [6, 5, 10, 11, 0, 3, 1, 4, 2, 7, 9, 8]}]\n",
      "[{'ce_symbol': 'I:12', 'ce_fraction': 0.7626461913784661, 'csm': 2.7759744493197087, 'permutation': [3, 1, 9, 11, 7, 0, 10, 4, 6, 8, 2, 5]}, {'ce_symbol': 'MI:10', 'ce_fraction': 0.2107712486605582, 'csm': 1.087147289534094, 'permutation': [7, 5, 1, 6, 4, 2, 9, 0, 3, 8]}, {'ce_symbol': 'C:12', 'ce_fraction': 0.020394348056453133, 'csm': 6.117426475149731, 'permutation': [8, 11, 3, 2, 7, 6, 5, 4, 9, 0, 10, 1]}, {'ce_symbol': 'AC:12', 'ce_fraction': 0.0035033396121240843, 'csm': 7.0950494994128785, 'permutation': [9, 8, 6, 1, 2, 5, 11, 10, 4, 7, 3, 0]}, {'ce_symbol': 'PBP:12', 'ce_fraction': 0.0026848722923985455, 'csm': 7.196457492288282, 'permutation': [10, 6, 7, 9, 11, 1, 3, 0, 5, 4, 8, 2]}]\n",
      "[{'ce_symbol': 'I:12', 'ce_fraction': 0.7626458502262563, 'csm': 2.775975113783373, 'permutation': [10, 9, 5, 3, 2, 1, 7, 6, 11, 8, 0, 4]}, {'ce_symbol': 'MI:10', 'ce_fraction': 0.21077162370985986, 'csm': 1.0871468365862507, 'permutation': [7, 3, 0, 4, 9, 8, 2, 6, 5, 1]}, {'ce_symbol': 'C:12', 'ce_fraction': 0.020394329049236583, 'csm': 6.117427351678038, 'permutation': [8, 7, 1, 0, 5, 2, 6, 9, 3, 4, 11, 10]}, {'ce_symbol': 'AC:12', 'ce_fraction': 0.0035033321750734796, 'csm': 7.0950504659772315, 'permutation': [6, 3, 8, 2, 10, 0, 7, 11, 9, 4, 5, 1]}, {'ce_symbol': 'PBP:12', 'ce_fraction': 0.002684864839573899, 'csm': 7.196458598816531, 'permutation': [1, 5, 8, 11, 10, 0, 4, 3, 7, 9, 2, 6]}]\n",
      "[{'ce_symbol': 'I:12', 'ce_fraction': 0.7626458145544147, 'csm': 2.775975115134797, 'permutation': [1, 2, 8, 7, 3, 4, 6, 5, 0, 9, 11, 10]}, {'ce_symbol': 'MI:10', 'ce_fraction': 0.21077166090599703, 'csm': 1.0871467439851707, 'permutation': [5, 4, 3, 9, 8, 0, 6, 2, 1, 7]}, {'ce_symbol': 'C:12', 'ce_fraction': 0.02039432838449836, 'csm': 6.1174273425451045, 'permutation': [8, 5, 3, 2, 4, 9, 11, 6, 10, 1, 7, 0]}, {'ce_symbol': 'AC:12', 'ce_fraction': 0.003503332103396476, 'csm': 7.09505045601594, 'permutation': [11, 10, 8, 9, 0, 2, 5, 7, 6, 4, 3, 1]}, {'ce_symbol': 'PBP:12', 'ce_fraction': 0.0026848640516933184, 'csm': 7.1964586885090425, 'permutation': [8, 10, 5, 6, 9, 3, 4, 11, 2, 0, 7, 1]}]\n",
      "[{'ce_symbol': 'I:12', 'ce_fraction': 0.7626459242611963, 'csm': 2.7759745793115838, 'permutation': [6, 9, 2, 10, 1, 3, 8, 11, 7, 0, 4, 5]}, {'ce_symbol': 'MI:10', 'ce_fraction': 0.2107715262041663, 'csm': 1.0871467253882392, 'permutation': [4, 6, 0, 5, 2, 8, 3, 9, 7, 1]}, {'ce_symbol': 'C:12', 'ce_fraction': 0.020394343144077242, 'csm': 6.117426499651635, 'permutation': [6, 3, 8, 10, 9, 7, 5, 2, 4, 11, 1, 0]}, {'ce_symbol': 'AC:12', 'ce_fraction': 0.003503337626125203, 'csm': 7.095049643901487, 'permutation': [2, 0, 8, 9, 4, 3, 10, 11, 5, 1, 7, 6]}, {'ce_symbol': 'PBP:12', 'ce_fraction': 0.0026848687644349632, 'csm': 7.196457892443722, 'permutation': [1, 6, 4, 5, 2, 0, 7, 9, 11, 10, 3, 8]}]\n",
      "[{'ce_symbol': 'I:12', 'ce_fraction': 0.7626459242611957, 'csm': 2.7759745793115855, 'permutation': [10, 9, 1, 4, 11, 0, 7, 5, 6, 8, 3, 2]}, {'ce_symbol': 'MI:10', 'ce_fraction': 0.2107715262041671, 'csm': 1.0871467253882376, 'permutation': [8, 4, 1, 6, 9, 0, 5, 3, 2, 7]}, {'ce_symbol': 'C:12', 'ce_fraction': 0.020394343144077037, 'csm': 6.117426499651643, 'permutation': [8, 9, 1, 3, 4, 11, 5, 10, 7, 2, 6, 0]}, {'ce_symbol': 'AC:12', 'ce_fraction': 0.0035033376261251756, 'csm': 7.095049643901491, 'permutation': [0, 10, 9, 7, 4, 1, 11, 6, 8, 3, 5, 2]}, {'ce_symbol': 'PBP:12', 'ce_fraction': 0.0026848687644349853, 'csm': 7.1964578924437195, 'permutation': [8, 4, 5, 9, 6, 1, 2, 3, 10, 11, 7, 0]}]\n",
      "[{'ce_symbol': 'I:12', 'ce_fraction': 0.7626461210761764, 'csm': 2.775974451843995, 'permutation': [2, 9, 1, 6, 3, 0, 5, 10, 11, 7, 8, 4]}, {'ce_symbol': 'MI:10', 'ce_fraction': 0.21077132129869072, 'csm': 1.0871471165675435, 'permutation': [0, 9, 3, 2, 4, 8, 1, 6, 7, 5]}, {'ce_symbol': 'C:12', 'ce_fraction': 0.02039434671661419, 'csm': 6.117426458090627, 'permutation': [4, 6, 2, 11, 8, 0, 5, 7, 10, 9, 1, 3]}, {'ce_symbol': 'AC:12', 'ce_fraction': 0.0035033394622079237, 'csm': 7.095049480710829, 'permutation': [4, 1, 7, 11, 9, 8, 6, 5, 10, 0, 3, 2]}, {'ce_symbol': 'PBP:12', 'ce_fraction': 0.002684871446310778, 'csm': 7.196457573872406, 'permutation': [5, 6, 4, 8, 9, 7, 1, 0, 2, 11, 10, 3]}]\n",
      "[{'ce_symbol': 'I:12', 'ce_fraction': 0.762646189200626, 'csm': 2.7759744493924314, 'permutation': [2, 7, 10, 8, 3, 11, 6, 1, 0, 5, 4, 9]}, {'ce_symbol': 'MI:10', 'ce_fraction': 0.21077125088446833, 'csm': 1.0871472845508952, 'permutation': [3, 7, 4, 1, 0, 2, 6, 9, 8, 5]}, {'ce_symbol': 'C:12', 'ce_fraction': 0.020394348013776178, 'csm': 6.117426474658255, 'permutation': [4, 11, 6, 5, 1, 7, 10, 3, 9, 8, 2, 0]}, {'ce_symbol': 'AC:12', 'ce_fraction': 0.003503339607164002, 'csm': 7.095049498867288, 'permutation': [2, 7, 6, 8, 10, 11, 0, 5, 3, 4, 1, 9]}, {'ce_symbol': 'PBP:12', 'ce_fraction': 0.0026848722939653755, 'csm': 7.196457491074293, 'permutation': [6, 1, 4, 2, 0, 5, 8, 9, 11, 3, 7, 10]}]\n",
      "[{'ce_symbol': 'I:12', 'ce_fraction': 0.7626459262456557, 'csm': 2.775974579238861, 'permutation': [1, 3, 6, 10, 11, 0, 7, 4, 9, 5, 8, 2]}, {'ce_symbol': 'MI:10', 'ce_fraction': 0.21077152414667724, 'csm': 1.0871467303714422, 'permutation': [0, 3, 6, 1, 5, 8, 9, 2, 4, 7]}, {'ce_symbol': 'C:12', 'ce_fraction': 0.020394343181582862, 'csm': 6.117426500143113, 'permutation': [7, 9, 2, 0, 4, 10, 1, 11, 3, 8, 5, 6]}, {'ce_symbol': 'AC:12', 'ce_fraction': 0.003503337630865768, 'csm': 7.0950496443704685, 'permutation': [10, 2, 8, 1, 9, 5, 6, 0, 11, 4, 3, 7]}, {'ce_symbol': 'PBP:12', 'ce_fraction': 0.002684868795218539, 'csm': 7.19645788921131, 'permutation': [9, 3, 8, 0, 11, 7, 4, 2, 6, 5, 1, 10]}]\n",
      "[{'ce_symbol': 'I:12', 'ce_fraction': 0.7626458501874745, 'csm': 2.7759751137833724, 'permutation': [0, 3, 7, 11, 1, 2, 5, 6, 9, 8, 4, 10]}, {'ce_symbol': 'MI:10', 'ce_fraction': 0.21077162374327138, 'csm': 1.087146836586249, 'permutation': [5, 9, 2, 6, 0, 1, 3, 8, 7, 4]}, {'ce_symbol': 'C:12', 'ce_fraction': 0.020394329048199496, 'csm': 6.117427351678038, 'permutation': [1, 3, 7, 6, 8, 2, 5, 4, 9, 11, 0, 10]}, {'ce_symbol': 'AC:12', 'ce_fraction': 0.003503332174285746, 'csm': 7.095050466047057, 'permutation': [6, 5, 9, 1, 2, 10, 3, 0, 4, 11, 8, 7]}, {'ce_symbol': 'PBP:12', 'ce_fraction': 0.002684864846768916, 'csm': 7.196458597829615, 'permutation': [2, 7, 8, 9, 0, 4, 10, 11, 5, 3, 1, 6]}]\n",
      "[{'ce_symbol': 'I:12', 'ce_fraction': 0.7626458143683404, 'csm': 2.775975115134797, 'permutation': [0, 1, 10, 9, 5, 3, 2, 8, 7, 11, 4, 6]}, {'ce_symbol': 'MI:10', 'ce_fraction': 0.21077166106619502, 'csm': 1.0871467439851705, 'permutation': [0, 5, 7, 3, 2, 9, 1, 4, 8, 6]}, {'ce_symbol': 'C:12', 'ce_fraction': 0.02039432837952222, 'csm': 6.1174273425451124, 'permutation': [6, 2, 3, 7, 4, 10, 1, 11, 8, 0, 9, 5]}, {'ce_symbol': 'AC:12', 'ce_fraction': 0.0035033321018729845, 'csm': 7.09505045609254, 'permutation': [0, 4, 6, 9, 11, 7, 1, 8, 2, 3, 10, 5]}, {'ce_symbol': 'PBP:12', 'ce_fraction': 0.002684864084069385, 'csm': 7.196458684062645, 'permutation': [8, 4, 0, 7, 2, 9, 6, 3, 5, 11, 1, 10]}]\n",
      "[{'ce_symbol': 'I:12', 'ce_fraction': 0.7626459262456562, 'csm': 2.7759745792388575, 'permutation': [1, 11, 2, 4, 8, 10, 6, 5, 7, 9, 0, 3]}, {'ce_symbol': 'MI:10', 'ce_fraction': 0.21077152414667671, 'csm': 1.087146730371439, 'permutation': [5, 3, 8, 4, 1, 6, 9, 7, 2, 0]}, {'ce_symbol': 'C:12', 'ce_fraction': 0.020394343181582796, 'csm': 6.117426500143113, 'permutation': [6, 9, 0, 10, 11, 5, 8, 2, 7, 1, 4, 3]}, {'ce_symbol': 'AC:12', 'ce_fraction': 0.0035033376308657408, 'csm': 7.09504964437047, 'permutation': [5, 6, 7, 8, 10, 3, 11, 1, 0, 4, 9, 2]}, {'ce_symbol': 'PBP:12', 'ce_fraction': 0.0026848687952185308, 'csm': 7.19645788921131, 'permutation': [10, 2, 9, 7, 1, 0, 3, 4, 6, 11, 8, 5]}]\n",
      "[{'ce_symbol': 'I:12', 'ce_fraction': 0.7626459935903439, 'csm': 2.775974576787301, 'permutation': [2, 3, 11, 8, 6, 10, 0, 7, 1, 5, 4, 9]}, {'ce_symbol': 'MI:10', 'ce_fraction': 0.21077145440366274, 'csm': 1.0871468983548, 'permutation': [8, 6, 0, 4, 1, 5, 2, 9, 7, 3]}, {'ce_symbol': 'C:12', 'ce_fraction': 0.020394344457893048, 'csm': 6.1174265167107436, 'permutation': [4, 2, 8, 5, 9, 7, 6, 1, 10, 11, 3, 0]}, {'ce_symbol': 'AC:12', 'ce_fraction': 0.003503337771733486, 'csm': 7.095049662584933, 'permutation': [6, 5, 0, 7, 4, 10, 11, 8, 9, 1, 3, 2]}, {'ce_symbol': 'PBP:12', 'ce_fraction': 0.0026848697763668045, 'csm': 7.196457788073725, 'permutation': [3, 7, 9, 10, 2, 0, 8, 11, 6, 1, 4, 5]}]\n",
      "[{'ce_symbol': 'I:12', 'ce_fraction': 0.762645850187475, 'csm': 2.7759751137833693, 'permutation': [4, 2, 10, 6, 8, 11, 1, 0, 5, 9, 3, 7]}, {'ce_symbol': 'MI:10', 'ce_fraction': 0.21077162374327074, 'csm': 1.087146836586248, 'permutation': [0, 7, 9, 4, 2, 6, 1, 5, 8, 3]}, {'ce_symbol': 'C:12', 'ce_fraction': 0.02039432904819956, 'csm': 6.1174273516780335, 'permutation': [4, 1, 11, 6, 8, 3, 9, 0, 5, 10, 2, 7]}, {'ce_symbol': 'AC:12', 'ce_fraction': 0.0035033321742856905, 'csm': 7.095050466047062, 'permutation': [0, 7, 11, 8, 5, 1, 6, 10, 9, 3, 4, 2]}, {'ce_symbol': 'PBP:12', 'ce_fraction': 0.002684864846768895, 'csm': 7.196458597829617, 'permutation': [11, 3, 0, 6, 10, 4, 2, 1, 9, 8, 7, 5]}]\n",
      "[{'ce_symbol': 'I:12', 'ce_fraction': 0.7626459935903436, 'csm': 2.7759745767873, 'permutation': [4, 5, 10, 6, 11, 2, 7, 3, 8, 9, 0, 1]}, {'ce_symbol': 'MI:10', 'ce_fraction': 0.2107714544036633, 'csm': 1.0871468983547972, 'permutation': [3, 5, 4, 6, 8, 1, 9, 0, 2, 7]}, {'ce_symbol': 'C:12', 'ce_fraction': 0.020394344457892916, 'csm': 6.117426516710747, 'permutation': [1, 11, 3, 8, 6, 0, 9, 4, 10, 7, 2, 5]}, {'ce_symbol': 'AC:12', 'ce_fraction': 0.0035033377717334645, 'csm': 7.095049662584935, 'permutation': [11, 4, 5, 3, 6, 10, 8, 7, 9, 2, 0, 1]}, {'ce_symbol': 'PBP:12', 'ce_fraction': 0.0026848697763667993, 'csm': 7.196457788073725, 'permutation': [9, 8, 4, 2, 10, 6, 7, 5, 0, 1, 11, 3]}]\n",
      "[{'ce_symbol': 'I:12', 'ce_fraction': 0.7626458143683397, 'csm': 2.7759751151347976, 'permutation': [6, 11, 5, 2, 1, 3, 9, 8, 10, 0, 7, 4]}, {'ce_symbol': 'MI:10', 'ce_fraction': 0.21077166106619558, 'csm': 1.0871467439851699, 'permutation': [3, 9, 7, 5, 0, 2, 1, 4, 6, 8]}, {'ce_symbol': 'C:12', 'ce_fraction': 0.020394328379522382, 'csm': 6.117427342545106, 'permutation': [2, 1, 8, 6, 9, 4, 10, 3, 0, 11, 5, 7]}, {'ce_symbol': 'AC:12', 'ce_fraction': 0.0035033321018729754, 'csm': 7.095050456092541, 'permutation': [0, 9, 8, 7, 3, 1, 2, 4, 5, 10, 11, 6]}, {'ce_symbol': 'PBP:12', 'ce_fraction': 0.0026848640840693703, 'csm': 7.196458684062647, 'permutation': [10, 11, 7, 3, 1, 9, 8, 4, 5, 0, 6, 2]}]\n",
      "[{'ce_symbol': 'I:12', 'ce_fraction': 0.7626459957294064, 'csm': 2.775974576714574, 'permutation': [10, 8, 0, 2, 9, 6, 3, 7, 4, 1, 5, 11]}, {'ce_symbol': 'MI:10', 'ce_fraction': 0.21077145221315968, 'csm': 1.087146903338003, 'permutation': [5, 8, 1, 6, 2, 3, 9, 7, 4, 0]}, {'ce_symbol': 'C:12', 'ce_fraction': 0.02039434449953294, 'csm': 6.11742651720222, 'permutation': [9, 2, 10, 7, 6, 4, 11, 3, 0, 5, 1, 8]}, {'ce_symbol': 'AC:12', 'ce_fraction': 0.00350333777590589, 'csm': 7.095049663200342, 'permutation': [9, 1, 3, 7, 5, 6, 0, 2, 11, 4, 8, 10]}, {'ce_symbol': 'PBP:12', 'ce_fraction': 0.0026848697819950667, 'csm': 7.196457788300789, 'permutation': [1, 2, 7, 8, 4, 0, 11, 5, 10, 9, 3, 6]}]\n",
      "[{'ce_symbol': 'I:12', 'ce_fraction': 0.7626458145544154, 'csm': 2.775975115134798, 'permutation': [11, 10, 8, 3, 9, 5, 1, 4, 2, 0, 7, 6]}, {'ce_symbol': 'MI:10', 'ce_fraction': 0.21077166090599653, 'csm': 1.0871467439851705, 'permutation': [9, 4, 3, 8, 0, 7, 2, 5, 6, 1]}, {'ce_symbol': 'C:12', 'ce_fraction': 0.02039432838449828, 'csm': 6.117427342545109, 'permutation': [9, 0, 7, 4, 5, 11, 3, 1, 8, 6, 2, 10]}, {'ce_symbol': 'AC:12', 'ce_fraction': 0.0035033321033964672, 'csm': 7.095050456015942, 'permutation': [9, 2, 1, 4, 6, 5, 0, 3, 8, 11, 10, 7]}, {'ce_symbol': 'PBP:12', 'ce_fraction': 0.002684864051693278, 'csm': 7.196458688509049, 'permutation': [1, 4, 7, 11, 2, 3, 6, 5, 9, 0, 10, 8]}]\n",
      "[{'ce_symbol': 'I:12', 'ce_fraction': 0.762646189200624, 'csm': 2.7759744493924323, 'permutation': [10, 1, 3, 7, 6, 4, 8, 0, 9, 11, 2, 5]}, {'ce_symbol': 'MI:10', 'ce_fraction': 0.2107712508844705, 'csm': 1.0871472845508903, 'permutation': [6, 2, 0, 4, 7, 8, 3, 9, 1, 5]}, {'ce_symbol': 'C:12', 'ce_fraction': 0.02039434801377617, 'csm': 6.117426474658254, 'permutation': [11, 10, 7, 2, 8, 3, 1, 4, 9, 0, 6, 5]}, {'ce_symbol': 'AC:12', 'ce_fraction': 0.003503339607163972, 'csm': 7.095049498867291, 'permutation': [10, 1, 0, 7, 3, 6, 9, 8, 11, 2, 5, 4]}, {'ce_symbol': 'PBP:12', 'ce_fraction': 0.0026848722939653707, 'csm': 7.196457491074293, 'permutation': [0, 2, 10, 9, 8, 5, 4, 6, 11, 7, 1, 3]}]\n",
      "[{'ce_symbol': 'I:12', 'ce_fraction': 0.7626461210761745, 'csm': 2.775974451843995, 'permutation': [3, 1, 10, 11, 8, 4, 9, 2, 6, 5, 0, 7]}, {'ce_symbol': 'MI:10', 'ce_fraction': 0.21077132129869283, 'csm': 1.087147116567538, 'permutation': [2, 8, 9, 3, 1, 7, 0, 5, 4, 6]}, {'ce_symbol': 'C:12', 'ce_fraction': 0.020394346716614036, 'csm': 6.11742645809063, 'permutation': [11, 6, 7, 3, 2, 10, 1, 8, 9, 0, 5, 4]}, {'ce_symbol': 'AC:12', 'ce_fraction': 0.003503339462207937, 'csm': 7.095049480710826, 'permutation': [1, 9, 11, 10, 4, 3, 6, 5, 8, 2, 7, 0]}, {'ce_symbol': 'PBP:12', 'ce_fraction': 0.0026848714463107446, 'csm': 7.19645757387241, 'permutation': [7, 4, 3, 1, 2, 11, 10, 8, 6, 9, 0, 5]}]\n",
      "[{'ce_symbol': 'I:12', 'ce_fraction': 0.7626458502262565, 'csm': 2.7759751137833706, 'permutation': [7, 6, 2, 4, 0, 3, 8, 10, 11, 1, 9, 5]}, {'ce_symbol': 'MI:10', 'ce_fraction': 0.21077162370985963, 'csm': 1.0871468365862489, 'permutation': [9, 4, 5, 1, 3, 7, 0, 6, 8, 2]}, {'ce_symbol': 'C:12', 'ce_fraction': 0.020394329049236493, 'csm': 6.11742735167804, 'permutation': [8, 7, 4, 3, 10, 1, 9, 0, 6, 5, 11, 2]}, {'ce_symbol': 'AC:12', 'ce_fraction': 0.003503332175073458, 'csm': 7.095050465977233, 'permutation': [9, 7, 11, 1, 4, 5, 3, 0, 2, 6, 8, 10]}, {'ce_symbol': 'PBP:12', 'ce_fraction': 0.002684864839573873, 'csm': 7.196458598816534, 'permutation': [2, 4, 8, 11, 0, 5, 10, 6, 7, 3, 1, 9]}]\n",
      "[{'ce_symbol': 'I:12', 'ce_fraction': 0.7626459957294054, 'csm': 2.7759745767145754, 'permutation': [0, 2, 11, 10, 8, 6, 3, 7, 1, 4, 5, 9]}, {'ce_symbol': 'MI:10', 'ce_fraction': 0.21077145221316068, 'csm': 1.0871469033380021, 'permutation': [2, 8, 5, 6, 0, 7, 1, 3, 9, 4]}, {'ce_symbol': 'C:12', 'ce_fraction': 0.020394344499532962, 'csm': 6.117426517202219, 'permutation': [9, 10, 0, 1, 5, 6, 3, 4, 7, 2, 11, 8]}, {'ce_symbol': 'AC:12', 'ce_fraction': 0.003503337775905898, 'csm': 7.095049663200341, 'permutation': [7, 10, 4, 8, 0, 5, 3, 1, 2, 9, 11, 6]}, {'ce_symbol': 'PBP:12', 'ce_fraction': 0.0026848697819950138, 'csm': 7.196457788300796, 'permutation': [5, 2, 3, 10, 9, 6, 0, 1, 4, 11, 7, 8]}]\n",
      "[{'ce_symbol': 'I:12', 'ce_fraction': 0.7626461191301735, 'csm': 2.775974451916716, 'permutation': [8, 11, 1, 4, 3, 2, 10, 5, 9, 7, 6, 0]}, {'ce_symbol': 'MI:10', 'ce_fraction': 0.2107713233230457, 'csm': 1.0871471115843334, 'permutation': [0, 5, 7, 1, 6, 9, 2, 4, 8, 3]}, {'ce_symbol': 'C:12', 'ce_fraction': 0.02039434668013697, 'csm': 6.117426457599148, 'permutation': [9, 3, 5, 0, 11, 10, 2, 1, 8, 6, 7, 4]}, {'ce_symbol': 'AC:12', 'ce_fraction': 0.003503339458312778, 'csm': 7.095049480165243, 'permutation': [1, 4, 5, 11, 8, 3, 0, 6, 2, 7, 10, 9]}, {'ce_symbol': 'PBP:12', 'ce_fraction': 0.002684871408330986, 'csm': 7.196457578091738, 'permutation': [3, 8, 6, 0, 1, 9, 11, 5, 4, 7, 2, 10]}]\n"
     ]
    }
   ],
   "source": [
    "database_dir=os.path.join(PROJECT_DIR,'data','raw','mp_database')\n",
    "\n",
    "database_files=glob(database_dir + '\\*.json')\n",
    "file=database_files[2]\n",
    "\n",
    "file=os.path.join(database_dir,\"mp-1163.json\")\n",
    "\n",
    "with open(file) as f:\n",
    "    db = json.load(f)\n",
    "    struct = pmat.Structure.from_dict(db['structure'])\n",
    "\n",
    "lgf = LocalGeometryFinder()\n",
    "lgf.setup_structure(structure=struct)\n",
    "\n",
    "se = lgf.compute_structure_environments(maximum_distance_factor=1.41,only_cations=False)\n",
    "# strategy = SimplestChemenvStrategy(distance_cutoff=1.4, angle_cutoff=0.3)\n",
    "\n",
    "strategy = MultiWeightsChemenvStrategy.stats_article_weights_parameters()\n",
    "lse = LightStructureEnvironments.from_structure_environments(strategy=strategy, structure_environments=se)\n",
    "# list of possible coordination environements per site\n",
    "coordination_environments = lse.coordination_environments\n",
    "for env in coordination_environments:\n",
    "    print(env)\n",
    "\n",
    "# if n_cores==1:\n",
    "#     for i,file in enumerate(database_files[:50]):\n",
    "#         if i%100==0:\n",
    "#             print(i)\n",
    "#         print(file)\n",
    "#         chemenv_analysis(file)\n",
    "# else:\n",
    "#     with Pool(n_cores) as p:\n",
    "#         p.map(chemenv_analysis, database_files)"
   ]
  },
  {
   "cell_type": "code",
   "execution_count": 7,
   "metadata": {},
   "outputs": [
    {
     "name": "stdout",
     "output_type": "stream",
     "text": [
      "[{'ce_symbol': 'O:6', 'ce_fraction': 1.0, 'csm': 7.820056559924112e-13, 'permutation': [2, 3, 5, 0, 4, 1]}]\n",
      "[{'ce_symbol': 'O:6', 'ce_fraction': 1.0, 'csm': 7.820056535517507e-13, 'permutation': [5, 2, 4, 0, 1, 3]}]\n"
     ]
    }
   ],
   "source": []
  },
  {
   "cell_type": "code",
   "execution_count": 5,
   "metadata": {},
   "outputs": [
    {
     "name": "stdout",
     "output_type": "stream",
     "text": [
      "[{'ce_symbol': 'O:6', 'ce_fraction': 1.0, 'csm': 7.820056559924112e-13, 'permutation': [2, 3, 5, 0, 4, 1]}]\n"
     ]
    }
   ],
   "source": [
    "# print coordination environments for a special site\n",
    "isite = 0\n",
    "print(lse.coordination_environments[isite])"
   ]
  },
  {
   "cell_type": "code",
   "execution_count": 6,
   "metadata": {},
   "outputs": [
    {
     "name": "stdout",
     "output_type": "stream",
     "text": [
      "[{'ce_symbol': 'O:6', 'ce_fraction': 1.0, 'csm': 7.820056535517507e-13, 'permutation': [5, 2, 4, 0, 1, 3]}]\n"
     ]
    }
   ],
   "source": [
    "# print coordination environments for a special site\n",
    "isite = 1\n",
    "print(lse.coordination_environments[isite])"
   ]
  }
 ],
 "metadata": {
  "kernelspec": {
   "display_name": "venv",
   "language": "python",
   "name": "python3"
  },
  "language_info": {
   "codemirror_mode": {
    "name": "ipython",
    "version": 3
   },
   "file_extension": ".py",
   "mimetype": "text/x-python",
   "name": "python",
   "nbconvert_exporter": "python",
   "pygments_lexer": "ipython3",
   "version": "3.8.17"
  },
  "orig_nbformat": 4
 },
 "nbformat": 4,
 "nbformat_minor": 2
}
